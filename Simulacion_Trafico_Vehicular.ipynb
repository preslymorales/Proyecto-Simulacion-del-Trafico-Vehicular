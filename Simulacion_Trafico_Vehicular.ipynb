{
 "cells": [
  {
   "cell_type": "markdown",
   "id": "f6a10e1e",
   "metadata": {},
   "source": [
    "<h1 style=\"text-align:center;\">ESCUELA POLITÉCNICA NACIONAL</h1>\n",
    "<h2 style=\"text-align:center;\">FACULTAD DE INGENIERÍA DE SISTEMAS</h2>\n",
    "<h3 style=\"text-align:center;\">INGENIERÍA EN CIENCIAS DE LA COMPUTACIÓN</h3>"
   ]
  },
  {
   "cell_type": "markdown",
   "id": "88ec5e92",
   "metadata": {},
   "source": [
    "**PERÍODO ACADÉMICO:** 2025-A  \n",
    "**ASIGNATURA:** ICCD412 Métodos Numéricos  \n",
    "**GRUPO:** GR2  \n",
    "**TIPO DE INSTRUMENTO:** Proyecto   \n",
    "**FECHA DE ENTREGA LÍMITE:** ..   \n",
    "**ALUMNO:** Murillo Juan, Sangucho Eddy, Morales Presly"
   ]
  },
  {
   "cell_type": "markdown",
   "id": "8c08b4a6-c86d-4062-b263-b65b33273cc3",
   "metadata": {},
   "source": [
    "## Librerías a utilizar\n",
    "* pandas \n",
    "* seaborn \n",
    "* matplotlib\n",
    "* numpy\n",
    "* scipy "
   ]
  },
  {
   "cell_type": "code",
   "execution_count": 1,
   "id": "e8a3b4cd-3ad8-4282-aa86-5a0cfe8bb9b0",
   "metadata": {},
   "outputs": [],
   "source": [
    "import pandas as pd\n",
    "import seaborn as sns\n",
    "import matplotlib.pyplot as plt\n",
    "import numpy as np\n",
    "from scipy import stats as statsCorr"
   ]
  },
  {
   "cell_type": "markdown",
   "id": "b7afddc4-581a-4058-9cab-bc0510dd86a7",
   "metadata": {},
   "source": [
    "# Limpieza DE CSV"
   ]
  },
  {
   "cell_type": "markdown",
   "id": "d7343815-ed26-43ed-a20d-72c31e819d9f",
   "metadata": {},
   "source": [
    "## Creación del DataFrame\n",
    "Utilizamos pandas para crear un DataFrame a partir del csv."
   ]
  },
  {
   "cell_type": "code",
   "execution_count": 2,
   "id": "9d175851-57fc-4755-81f9-f0053c342528",
   "metadata": {},
   "outputs": [],
   "source": [
    "df = pd.read_csv(\"Train.csv\")"
   ]
  },
  {
   "cell_type": "markdown",
   "id": "e4d7b5b5-a2d2-4337-805e-bc5260692cab",
   "metadata": {},
   "source": [
    "## Revisión del tipo de datos\n",
    "Realizamos esta revisión porque pandas asigna un tipo de dato que él considera adecuado y a veces el tipo de dato es erróneo."
   ]
  },
  {
   "cell_type": "code",
   "execution_count": 3,
   "id": "8e66c727-254c-42f6-af17-a45c4291df89",
   "metadata": {},
   "outputs": [
    {
     "name": "stdout",
     "output_type": "stream",
     "text": [
      "date_time               object\n",
      "is_holiday              object\n",
      "air_pollution_index      int64\n",
      "humidity                 int64\n",
      "wind_speed               int64\n",
      "wind_direction           int64\n",
      "visibility_in_miles      int64\n",
      "dew_point                int64\n",
      "temperature            float64\n",
      "rain_p_h               float64\n",
      "snow_p_h               float64\n",
      "clouds_all               int64\n",
      "weather_type            object\n",
      "weather_description     object\n",
      "traffic_volume           int64\n",
      "dtype: object\n"
     ]
    }
   ],
   "source": [
    "print(df.dtypes)"
   ]
  },
  {
   "cell_type": "markdown",
   "id": "8608b2bb-502a-4421-80c0-61326e777174",
   "metadata": {},
   "source": [
    "## Conclusión del paso anterior\n",
    "Nos damos cuenta de que están mal asignadas las categóricas y el date_time no está en formato datetime64."
   ]
  },
  {
   "cell_type": "code",
   "execution_count": 4,
   "id": "23251cf5-98fe-495f-916a-e16b4b1cc5aa",
   "metadata": {},
   "outputs": [],
   "source": [
    "df[\"date_time\"] = df[\"date_time\"].astype(\"datetime64[ns]\")\n",
    "df[\"weather_type\"] = df[\"weather_type\"].astype(\"category\")\n",
    "df[\"weather_description\"] = df[\"weather_description\"].astype(\"category\")"
   ]
  },
  {
   "cell_type": "markdown",
   "id": "9be65f71-477a-4869-9c9a-83328d8324ab",
   "metadata": {},
   "source": [
    "## Limpieza de columnas duplicadas\n",
    "Revisamos el número de datos de cada categoría de weather_description y nos damos cuenta de que hay un duplicado sky is clear y Sky is clear"
   ]
  },
  {
   "cell_type": "code",
   "execution_count": 5,
   "id": "e5105bfd-565b-46eb-9cbb-997e93216314",
   "metadata": {},
   "outputs": [
    {
     "name": "stdout",
     "output_type": "stream",
     "text": [
      "weather_description\n",
      "sky is clear                           7524\n",
      "mist                                   4047\n",
      "overcast clouds                        3972\n",
      "broken clouds                          3379\n",
      "light rain                             2442\n",
      "scattered clouds                       2294\n",
      "Sky is Clear                           1709\n",
      "few clouds                             1568\n",
      "light snow                             1280\n",
      "moderate rain                          1105\n",
      "haze                                    902\n",
      "light intensity drizzle                 703\n",
      "heavy snow                              587\n",
      "fog                                     567\n",
      "drizzle                                 460\n",
      "proximity thunderstorm                  345\n",
      "heavy intensity rain                    311\n",
      "snow                                    190\n",
      "thunderstorm                             66\n",
      "proximity shower rain                    54\n",
      "thunderstorm with heavy rain             42\n",
      "heavy intensity drizzle                  40\n",
      "thunderstorm with light rain             35\n",
      "proximity thunderstorm with rain         25\n",
      "thunderstorm with rain                   23\n",
      "very heavy rain                          18\n",
      "smoke                                    17\n",
      "proximity thunderstorm with drizzle      11\n",
      "light intensity shower rain               8\n",
      "light rain and snow                       6\n",
      "SQUALLS                                   4\n",
      "light shower snow                         4\n",
      "thunderstorm with light drizzle           4\n",
      "freezing rain                             2\n",
      "sleet                                     2\n",
      "thunderstorm with drizzle                 2\n",
      "shower snow                               1\n",
      "shower drizzle                            1\n",
      "Name: count, dtype: int64\n"
     ]
    }
   ],
   "source": [
    "print(df['weather_description'].value_counts())"
   ]
  },
  {
   "cell_type": "code",
   "execution_count": 6,
   "id": "a5a5752e-5ff8-4e12-85e6-27dff2628382",
   "metadata": {},
   "outputs": [
    {
     "name": "stdout",
     "output_type": "stream",
     "text": [
      "weather_description\n",
      "sky is clear                           9233\n",
      "mist                                   4047\n",
      "overcast clouds                        3972\n",
      "broken clouds                          3379\n",
      "light rain                             2442\n",
      "scattered clouds                       2294\n",
      "few clouds                             1568\n",
      "light snow                             1280\n",
      "moderate rain                          1105\n",
      "haze                                    902\n",
      "light intensity drizzle                 703\n",
      "heavy snow                              587\n",
      "fog                                     567\n",
      "drizzle                                 460\n",
      "proximity thunderstorm                  345\n",
      "heavy intensity rain                    311\n",
      "snow                                    190\n",
      "thunderstorm                             66\n",
      "proximity shower rain                    54\n",
      "thunderstorm with heavy rain             42\n",
      "heavy intensity drizzle                  40\n",
      "thunderstorm with light rain             35\n",
      "proximity thunderstorm with rain         25\n",
      "thunderstorm with rain                   23\n",
      "very heavy rain                          18\n",
      "smoke                                    17\n",
      "proximity thunderstorm with drizzle      11\n",
      "light intensity shower rain               8\n",
      "light rain and snow                       6\n",
      "thunderstorm with light drizzle           4\n",
      "light shower snow                         4\n",
      "squalls                                   4\n",
      "freezing rain                             2\n",
      "sleet                                     2\n",
      "thunderstorm with drizzle                 2\n",
      "shower drizzle                            1\n",
      "shower snow                               1\n",
      "Name: count, dtype: int64\n"
     ]
    }
   ],
   "source": [
    "df[\"weather_description\"] = (df[\"weather_description\"].str.lower()).str.strip()\n",
    "df[\"weather_description\"] = df[\"weather_description\"].astype(\"category\")\n",
    "print(df['weather_description'].value_counts())"
   ]
  },
  {
   "cell_type": "markdown",
   "id": "c0fa5b83-dd65-4e7d-9726-e8c23f30784c",
   "metadata": {},
   "source": [
    "## Trabajo de limpieza con la variable temperatura"
   ]
  },
  {
   "cell_type": "code",
   "execution_count": 7,
   "id": "e07dee1c-a197-4c39-823c-eb3747d9282f",
   "metadata": {},
   "outputs": [
    {
     "name": "stdout",
     "output_type": "stream",
     "text": [
      "    weather_type                  weather_description  traffic_volume\n",
      "0          Clear                         sky is clear     3098.786202\n",
      "1         Clouds                        broken clouds     3481.830719\n",
      "2         Clouds                           few clouds     3569.742347\n",
      "3         Clouds                      overcast clouds     3302.797080\n",
      "4         Clouds                     scattered clouds     3841.502616\n",
      "5        Drizzle                              drizzle     3041.732609\n",
      "6        Drizzle              heavy intensity drizzle     3158.500000\n",
      "7        Drizzle              light intensity drizzle     3309.857752\n",
      "8        Drizzle                       shower drizzle     2010.000000\n",
      "9            Fog                                  fog     2740.603175\n",
      "10          Haze                                 haze     3638.919069\n",
      "11          Mist                                 mist     2943.952310\n",
      "12          Rain                        freezing rain     4314.000000\n",
      "13          Rain                 heavy intensity rain     3069.070740\n",
      "14          Rain          light intensity shower rain     4667.500000\n",
      "15          Rain                           light rain     3369.970925\n",
      "16          Rain                        moderate rain     3113.825339\n",
      "17          Rain                proximity shower rain     4491.685185\n",
      "18          Rain                      very heavy rain     2568.833333\n",
      "19         Smoke                                smoke     2936.176471\n",
      "20          Snow                           heavy snow     3085.862010\n",
      "21          Snow                  light rain and snow     3961.166667\n",
      "22          Snow                    light shower snow     4570.750000\n",
      "23          Snow                           light snow     3031.460938\n",
      "24          Snow                          shower snow     5664.000000\n",
      "25          Snow                                sleet     3882.000000\n",
      "26          Snow                                 snow     2695.905263\n",
      "27        Squall                              squalls     2061.750000\n",
      "28  Thunderstorm               proximity thunderstorm     2992.915942\n",
      "29  Thunderstorm  proximity thunderstorm with drizzle     2810.090909\n",
      "30  Thunderstorm     proximity thunderstorm with rain     2076.520000\n",
      "31  Thunderstorm                         thunderstorm     2558.833333\n",
      "32  Thunderstorm            thunderstorm with drizzle     2297.000000\n",
      "33  Thunderstorm         thunderstorm with heavy rain     2544.619048\n",
      "34  Thunderstorm      thunderstorm with light drizzle     2858.750000\n",
      "35  Thunderstorm         thunderstorm with light rain     2501.857143\n",
      "36  Thunderstorm               thunderstorm with rain     3164.695652\n",
      "<class 'pandas.core.frame.DataFrame'>\n",
      "RangeIndex: 33750 entries, 0 to 33749\n",
      "Data columns (total 14 columns):\n",
      " #   Column               Non-Null Count  Dtype         \n",
      "---  ------               --------------  -----         \n",
      " 0   date_time            33750 non-null  datetime64[ns]\n",
      " 1   air_pollution_index  33750 non-null  int64         \n",
      " 2   humidity             33750 non-null  int64         \n",
      " 3   wind_speed           33750 non-null  int64         \n",
      " 4   wind_direction       33750 non-null  int64         \n",
      " 5   visibility_in_miles  33750 non-null  int64         \n",
      " 6   dew_point            33750 non-null  int64         \n",
      " 7   temperature          33750 non-null  float64       \n",
      " 8   rain_p_h             33750 non-null  float64       \n",
      " 9   snow_p_h             33750 non-null  float64       \n",
      " 10  clouds_all           33750 non-null  int64         \n",
      " 11  weather_type         33750 non-null  category      \n",
      " 12  weather_description  33750 non-null  category      \n",
      " 13  traffic_volume       33750 non-null  int64         \n",
      "dtypes: category(2), datetime64[ns](1), float64(3), int64(8)\n",
      "memory usage: 3.2 MB\n",
      "date_time              0\n",
      "air_pollution_index    0\n",
      "humidity               0\n",
      "wind_speed             0\n",
      "wind_direction         0\n",
      "visibility_in_miles    0\n",
      "dew_point              0\n",
      "temperature            0\n",
      "rain_p_h               0\n",
      "snow_p_h               0\n",
      "clouds_all             0\n",
      "weather_type           0\n",
      "weather_description    0\n",
      "traffic_volume         0\n",
      "dtype: int64\n"
     ]
    },
    {
     "data": {
      "text/plain": [
       "<Axes: xlabel='weather_type'>"
      ]
     },
     "execution_count": 7,
     "metadata": {},
     "output_type": "execute_result"
    },
    {
     "data": {
      "image/png": "[encoded data removed]",
      "text/plain": [
       "<Figure size 640x480 with 1 Axes>"
      ]
     },
     "metadata": {},
     "output_type": "display_data"
    }
   ],
   "source": [
    "#Eliminamos la columna de isHoliday porque aporta ruido y porque no lo consideramos para el modelo, ademas vimos que existen solo 43 datos de esta sobre 33750\n",
    "df.drop(columns=\"is_holiday\", inplace=True)#Ponemos inplace=True porque sino no cambia el df\n",
    "\n",
    "#Aca veremos las variables categoricas y su relacion ()\n",
    "df_test = df[[\"weather_type\",\"weather_description\", \"traffic_volume\"]]\n",
    "# Solo mantener combinaciones que realmente aparecen en los datos\n",
    "df_grp = df_test.groupby([\"weather_type\", \"weather_description\"], as_index=False, observed=True).mean()\n",
    "print(df_grp)\n",
    "\n",
    "#Vemos el tamanio para ver que metodo de categorico a numerico podemos usar \n",
    "#df_count = df_test.groupby([\"weather_type\", \"weather_description\"], as_index=False, observed=True).size()\n",
    "#print(df_count)\n",
    "\n",
    "\n",
    "#std Desviacion estandar (Estadistica)\n",
    "#print(df.describe(include=\"all\")) #-> De aqui influimos que temperature es en kelvin por los min y max   #Trabajamos con Kelvin para el calculo, transformamos a celsius para las presentaciones\n",
    "\n",
    "\n",
    "#Dado que no se cuenta con información sobre la ubicación geográfica o el clima específico del lugar donde se recolectaron los datos \n",
    "#Por tanto, para evitar sesgar el análisis y el modelo, se opta por conservar estos valores. \n",
    "#Solo se marcan como NaN, como 0 K, que corresponden claramente a errores de medición o registros faltantes.\n",
    "\n",
    "df.loc[df[\"temperature\"] == 0, \"temperature\"] = pd.NA \n",
    "#print(df.isnull().sum())\n",
    "\n",
    "#Como son 10 los rellenamos con la media de la hora. Métodos avanzados pueden introducir sesgos o sobreajustar en conjuntos pequeños o con poca información.\n",
    "df[\"temperature\"] = df.groupby(df[\"date_time\"].dt.hour)[\"temperature\"].transform(lambda x: x.fillna(x.mean()))\n",
    "\n",
    "\n",
    "#Info como memoria etc\n",
    "df.info()\n",
    "print(df.isnull().sum())\n",
    "\n",
    "\n",
    "#Diagrama de caja\n",
    "sns.boxplot(x=\"weather_type\", data=df)"
   ]
  },
  {
   "cell_type": "markdown",
   "id": "bc2d1bd5-9481-42b9-9f59-cfbfb48c0b1e",
   "metadata": {},
   "source": [
    "## Dividimos los datos en 80/20 para hacerTrain y Test \n",
    "\n",
    "Esto lo realizamos para comparar los resultados de nuestro modelo con los medidos y registrados en la tabla y ver cuanta exactitud tiene.\n"
   ]
  },
  {
   "cell_type": "code",
   "execution_count": 8,
   "id": "1e05b805-3bd0-450d-98b9-175d7515ee9e",
   "metadata": {},
   "outputs": [],
   "source": [
    "df = df.sample(frac=1, random_state=42)#Barajeamos las filas\n",
    "cut = int(len(df) * 0.8)\n",
    "df_train = df.iloc[:cut].copy() #80%\n",
    "df_test  = df.iloc[cut:].copy() #20%"
   ]
  },
  {
   "cell_type": "markdown",
   "id": "47f2771c-7636-4497-a8e2-d9d59e63e8b5",
   "metadata": {},
   "source": [
    "## Unir weather_type y  weather_description\n",
    "Unimos ambos porque están directamente relacionados y porque para simplificar la dimensión de la tabla"
   ]
  },
  {
   "cell_type": "code",
   "execution_count": 9,
   "id": "8caeee66-53db-4dd8-aff2-c35e9f4e3a13",
   "metadata": {},
   "outputs": [
    {
     "name": "stdout",
     "output_type": "stream",
     "text": [
      "    weather_type                  weather_description  size\n",
      "0          Clear                         sky is clear  9233\n",
      "1         Clouds                        broken clouds  3379\n",
      "2         Clouds                           few clouds  1568\n",
      "3         Clouds                      overcast clouds  3972\n",
      "4         Clouds                     scattered clouds  2294\n",
      "5        Drizzle                              drizzle   460\n",
      "6        Drizzle              heavy intensity drizzle    40\n",
      "7        Drizzle              light intensity drizzle   703\n",
      "8        Drizzle                       shower drizzle     1\n",
      "9            Fog                                  fog   567\n",
      "10          Haze                                 haze   902\n",
      "11          Mist                                 mist  4047\n",
      "12          Rain                        freezing rain     2\n",
      "13          Rain                 heavy intensity rain   311\n",
      "14          Rain          light intensity shower rain     8\n",
      "15          Rain                           light rain  2442\n",
      "16          Rain                        moderate rain  1105\n",
      "17          Rain                proximity shower rain    54\n",
      "18          Rain                      very heavy rain    18\n",
      "19         Smoke                                smoke    17\n",
      "20          Snow                           heavy snow   587\n",
      "21          Snow                  light rain and snow     6\n",
      "22          Snow                    light shower snow     4\n",
      "23          Snow                           light snow  1280\n",
      "24          Snow                          shower snow     1\n",
      "25          Snow                                sleet     2\n",
      "26          Snow                                 snow   190\n",
      "27        Squall                              squalls     4\n",
      "28  Thunderstorm               proximity thunderstorm   345\n",
      "29  Thunderstorm  proximity thunderstorm with drizzle    11\n",
      "30  Thunderstorm     proximity thunderstorm with rain    25\n",
      "31  Thunderstorm                         thunderstorm    66\n",
      "32  Thunderstorm            thunderstorm with drizzle     2\n",
      "33  Thunderstorm         thunderstorm with heavy rain    42\n",
      "34  Thunderstorm      thunderstorm with light drizzle     4\n",
      "35  Thunderstorm         thunderstorm with light rain    35\n",
      "36  Thunderstorm               thunderstorm with rain    23\n"
     ]
    }
   ],
   "source": [
    "# Solo mantener combinaciones que realmente aparecen en los datos y tienen traffic volume\n",
    "df_test_sub = df[[\"weather_type\",\"weather_description\", \"traffic_volume\"]]\n",
    "df_grp = df_test_sub.groupby([\"weather_type\", \"weather_description\"], as_index=False, observed=True).mean()\n",
    "df_count = df_test_sub.groupby([\"weather_type\", \"weather_description\"], as_index=False, observed=True).size()\n",
    "print(df_count)"
   ]
  },
  {
   "cell_type": "markdown",
   "id": "0af40c8e-b28e-4fb2-a25c-480b03138a29",
   "metadata": {},
   "source": [
    "## Conclusión del paso anterior\n",
    "Vemos que no podemos realizar One-Hot como método para pasar de variable categórica a numérica porque tenemos muchos valores en ciertas filas y en otros tenemos muy pocos.\n",
    "Además, recurrimos al método Target Encoding modificado porque el normal puede producir goteo."
   ]
  },
  {
   "cell_type": "markdown",
   "id": "419e6cd0-a787-4b4e-83c9-834e6e2469a4",
   "metadata": {},
   "source": [
    "## Target Encoding \n",
    "\n",
    "Explication"
   ]
  },
  {
   "cell_type": "markdown",
   "id": "7d944269-08e5-447f-961e-d412939e3b27",
   "metadata": {},
   "source": [
    "#Codigo"
   ]
  },
  {
   "cell_type": "code",
   "execution_count": 10,
   "id": "d5d0a0fb-2a07-4586-978f-bfb78891aec4",
   "metadata": {},
   "outputs": [],
   "source": [
    "#Por libreria"
   ]
  },
  {
   "cell_type": "markdown",
   "id": "36684771-7007-48ac-8790-bbe4f282fba4",
   "metadata": {},
   "source": [
    "## Matriz de correlación\n",
    "\n",
    "Explicación y decir cuáles elegimos con base en "
   ]
  },
  {
   "cell_type": "code",
   "execution_count": 11,
   "id": "a86e14f5-ad32-467c-b3d1-87157734ac9f",
   "metadata": {},
   "outputs": [],
   "source": [
    "#Codigo "
   ]
  },
  {
   "cell_type": "markdown",
   "id": "1223e79a-8c3c-44b5-9bd0-cc4c3793222a",
   "metadata": {},
   "source": [
    "## Matriz de correlación de Weather type y Weather Description\n",
    "Explicar que la nieve tiene más"
   ]
  },
  {
   "cell_type": "code",
   "execution_count": 12,
   "id": "e8463c8c-e283-418b-8cf6-9e0e3a9dcda4",
   "metadata": {},
   "outputs": [],
   "source": [
    "#Codigo"
   ]
  },
  {
   "cell_type": "code",
   "execution_count": 13,
   "id": "50acc666-e547-4ae4-9d5b-0339a09d2b61",
   "metadata": {},
   "outputs": [
    {
     "ename": "SyntaxError",
     "evalue": "invalid syntax (3589525124.py, line 1)",
     "output_type": "error",
     "traceback": [
      "  \u001b[36mCell\u001b[39m\u001b[36m \u001b[39m\u001b[32mIn[13]\u001b[39m\u001b[32m, line 1\u001b[39m\n\u001b[31m    \u001b[39m\u001b[31mVolumen de Trafico segun el Tipo de Clima\u001b[39m\n            ^\n\u001b[31mSyntaxError\u001b[39m\u001b[31m:\u001b[39m invalid syntax\n"
     ]
    }
   ],
   "source": [
    "Volumen de Trafico segun el Tipo de Clima\n",
    "Ecplicar:"
   ]
  },
  {
   "cell_type": "code",
   "execution_count": null,
   "id": "9c59d8f2",
   "metadata": {},
   "outputs": [],
   "source": [
    "plt.figure(figsize=(10, 6))\n",
    "sns.boxplot(x=\"weather_type\", y=\"traffic_volume\", data=df)\n",
    "plt.xticks(rotation=45)\n",
    "plt.title(\"Volumen de Tráfico según Tipo de Clima\")\n",
    "plt.tight_layout()\n",
    "plt.show()"
   ]
  },
  {
   "cell_type": "code",
   "execution_count": null,
   "id": "e2d254b1",
   "metadata": {},
   "outputs": [],
   "source": [
    "sns.regplot(\n",
    "    x=\"humidity\",\n",
    "    y=\"traffic_volume\",\n",
    "    data=df,\n",
    "    line_kws={'color': 'red'}\n",
    ")\n",
    "plt.ylim(0,)\n",
    "\n",
    "plt.show()"
   ]
  }
 ],
 "metadata": {
  "kernelspec": {
   "display_name": "Python 3",
   "language": "python",
   "name": "python3"
  },
  "language_info": {
   "codemirror_mode": {
    "name": "ipython",
    "version": 3
   },
   "file_extension": ".py",
   "mimetype": "text/x-python",
   "name": "python",
   "nbconvert_exporter": "python",
   "pygments_lexer": "ipython3",
   "version": "3.12.1"
  }
 },
 "nbformat": 4,
 "nbformat_minor": 5
}

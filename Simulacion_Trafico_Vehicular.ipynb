{
 "cells": [
  {
   "cell_type": "markdown",
   "id": "f6a10e1e",
   "metadata": {},
   "source": [
    "<h1 style=\"text-align:center;\">ESCUELA POLITÉCNICA NACIONAL</h1>\n",
    "<h2 style=\"text-align:center;\">FACULTAD DE INGENIERÍA DE SISTEMAS</h2>\n",
    "<h3 style=\"text-align:center;\">INGENIERÍA EN CIENCIAS DE LA COMPUTACIÓN</h3>"
   ]
  },
  {
   "cell_type": "markdown",
   "id": "88ec5e92",
   "metadata": {},
   "source": [
    "**PERÍODO ACADÉMICO:** 2025-A  \n",
    "**ASIGNATURA:** ICCD412 Métodos Numéricos  \n",
    "**GRUPO:** GR2  \n",
    "**TIPO DE INSTRUMENTO:** Proyecto   \n",
    "**FECHA DE ENTREGA LÍMITE:** ..   \n",
    "**ALUMNO:** Murillo Juan, Sangucho Eddy, Morales Presly"
   ]
  },
  {
   "cell_type": "markdown",
   "id": "8c08b4a6-c86d-4062-b263-b65b33273cc3",
   "metadata": {},
   "source": [
    "## Librerías a utilizar\n",
    "* pandas \n",
    "* seaborn \n",
    "* matplotlib\n",
    "* numpy\n",
    "* scipy "
   ]
  },
  {
   "cell_type": "code",
   "execution_count": null,
   "id": "e8a3b4cd-3ad8-4282-aa86-5a0cfe8bb9b0",
   "metadata": {},
   "outputs": [],
   "source": [
    "import pandas as pd\n",
    "import seaborn as sns\n",
    "import matplotlib.pyplot as plt\n",
    "import numpy as np\n",
    "from scipy import stats as statsCorr"
   ]
  },
  {
   "cell_type": "markdown",
   "id": "b7afddc4-581a-4058-9cab-bc0510dd86a7",
   "metadata": {},
   "source": [
    "# Limpieza DE CSV"
   ]
  },
  {
   "cell_type": "markdown",
   "id": "d7343815-ed26-43ed-a20d-72c31e819d9f",
   "metadata": {},
   "source": [
    "## Creación del DataFrame\n",
    "Utilizamos pandas para crear un DataFrame a partir del csv."
   ]
  },
  {
   "cell_type": "code",
   "execution_count": null,
   "id": "9d175851-57fc-4755-81f9-f0053c342528",
   "metadata": {},
   "outputs": [],
   "source": [
    "df = pd.read_csv(\"Train.csv\")"
   ]
  },
  {
   "cell_type": "markdown",
   "id": "e4d7b5b5-a2d2-4337-805e-bc5260692cab",
   "metadata": {},
   "source": [
    "## Revisión del tipo de datos\n",
    "Realizamos esta revisión porque pandas asigna un tipo de dato que él considera adecuado y a veces el tipo de dato es erróneo."
   ]
  },
  {
   "cell_type": "code",
   "execution_count": null,
   "id": "8e66c727-254c-42f6-af17-a45c4291df89",
   "metadata": {},
   "outputs": [],
   "source": [
    "print(df.dtypes)"
   ]
  },
  {
   "cell_type": "markdown",
   "id": "8608b2bb-502a-4421-80c0-61326e777174",
   "metadata": {},
   "source": [
    "## Conclusión del paso anterior\n",
    "Nos damos cuenta de que están mal asignadas las categóricas y el date_time no está en formato datetime64."
   ]
  },
  {
   "cell_type": "code",
   "execution_count": null,
   "id": "23251cf5-98fe-495f-916a-e16b4b1cc5aa",
   "metadata": {},
   "outputs": [],
   "source": [
    "df[\"date_time\"] = df[\"date_time\"].astype(\"datetime64[ns]\")\n",
    "df[\"weather_type\"] = df[\"weather_type\"].astype(\"category\")\n",
    "df[\"weather_description\"] = df[\"weather_description\"].astype(\"category\")"
   ]
  },
  {
   "cell_type": "markdown",
   "id": "9be65f71-477a-4869-9c9a-83328d8324ab",
   "metadata": {},
   "source": [
    "## Limpieza de columnas duplicadas\n",
    "Revisamos el número de datos de cada categoría de weather_description y nos damos cuenta de que hay un duplicado sky is clear y Sky is clear"
   ]
  },
  {
   "cell_type": "code",
   "execution_count": null,
   "id": "e5105bfd-565b-46eb-9cbb-997e93216314",
   "metadata": {},
   "outputs": [],
   "source": [
    "print(df['weather_description'].value_counts())"
   ]
  },
  {
   "cell_type": "code",
   "execution_count": null,
   "id": "a5a5752e-5ff8-4e12-85e6-27dff2628382",
   "metadata": {},
   "outputs": [],
   "source": [
    "df[\"weather_description\"] = (df[\"weather_description\"].str.lower()).str.strip()\n",
    "df[\"weather_description\"] = df[\"weather_description\"].astype(\"category\")\n",
    "print(df['weather_description'].value_counts())"
   ]
  },
  {
   "cell_type": "markdown",
   "id": "c0fa5b83-dd65-4e7d-9726-e8c23f30784c",
   "metadata": {},
   "source": [
    "## Trabajo de limpieza con la variable temperatura"
   ]
  },
  {
   "cell_type": "code",
   "execution_count": null,
   "id": "e07dee1c-a197-4c39-823c-eb3747d9282f",
   "metadata": {},
   "outputs": [],
   "source": [
    "#Eliminamos la columna de isHoliday porque aporta ruido y porque no lo consideramos para el modelo, ademas vimos que existen solo 43 datos de esta sobre 33750\n",
    "df.drop(columns=\"is_holiday\", inplace=True)#Ponemos inplace=True porque sino no cambia el df\n",
    "\n",
    "#Aca veremos las variables categoricas y su relacion ()\n",
    "df_test = df[[\"weather_type\",\"weather_description\", \"traffic_volume\"]]\n",
    "# Solo mantener combinaciones que realmente aparecen en los datos\n",
    "df_grp = df_test.groupby([\"weather_type\", \"weather_description\"], as_index=False, observed=True).mean()\n",
    "print(df_grp)\n",
    "\n",
    "#Vemos el tamanio para ver que metodo de categorico a numerico podemos usar \n",
    "#df_count = df_test.groupby([\"weather_type\", \"weather_description\"], as_index=False, observed=True).size()\n",
    "#print(df_count)\n",
    "\n",
    "\n",
    "#std Desviacion estandar (Estadistica)\n",
    "#print(df.describe(include=\"all\")) #-> De aqui influimos que temperature es en kelvin por los min y max   #Trabajamos con Kelvin para el calculo, transformamos a celsius para las presentaciones\n",
    "\n",
    "\n",
    "#Dado que no se cuenta con información sobre la ubicación geográfica o el clima específico del lugar donde se recolectaron los datos \n",
    "#Por tanto, para evitar sesgar el análisis y el modelo, se opta por conservar estos valores. \n",
    "#Solo se marcan como NaN, como 0 K, que corresponden claramente a errores de medición o registros faltantes.\n",
    "\n",
    "df.loc[df[\"temperature\"] == 0, \"temperature\"] = pd.NA \n",
    "#print(df.isnull().sum())\n",
    "\n",
    "#Como son 10 los rellenamos con la media de la hora. Métodos avanzados pueden introducir sesgos o sobreajustar en conjuntos pequeños o con poca información.\n",
    "df[\"temperature\"] = df.groupby(df[\"date_time\"].dt.hour)[\"temperature\"].transform(lambda x: x.fillna(x.mean()))\n",
    "\n",
    "\n",
    "#Info como memoria etc\n",
    "df.info()\n",
    "print(df.isnull().sum())\n",
    "\n",
    "\n",
    "#Diagrama de caja\n",
    "sns.boxplot(x=\"weather_type\", data=df)"
   ]
  },
  {
   "cell_type": "markdown",
   "id": "bc2d1bd5-9481-42b9-9f59-cfbfb48c0b1e",
   "metadata": {},
   "source": [
    "## Dividimos los datos en 80/20 para hacerTrain y Test \n",
    "\n",
    "Esto lo realizamos para comparar los resultados de nuestro modelo con los medidos y registrados en la tabla y ver cuanta exactitud tiene.\n"
   ]
  },
  {
   "cell_type": "code",
   "execution_count": null,
   "id": "1e05b805-3bd0-450d-98b9-175d7515ee9e",
   "metadata": {},
   "outputs": [],
   "source": [
    "df = df.sample(frac=1, random_state=42)#Barajeamos las filas\n",
    "cut = int(len(df) * 0.8)\n",
    "df_train = df.iloc[:cut].copy() #80%\n",
    "df_test  = df.iloc[cut:].copy() #20%"
   ]
  },
  {
   "cell_type": "markdown",
   "id": "47f2771c-7636-4497-a8e2-d9d59e63e8b5",
   "metadata": {},
   "source": [
    "## Unir weather_type y  weather_description\n",
    "Unimos ambos porque están directamente relacionados y porque para simplificar la dimensión de la tabla"
   ]
  },
  {
   "cell_type": "code",
   "execution_count": null,
   "id": "8caeee66-53db-4dd8-aff2-c35e9f4e3a13",
   "metadata": {},
   "outputs": [],
   "source": [
    "# Solo mantener combinaciones que realmente aparecen en los datos y tienen traffic volume\n",
    "df_test_sub = df[[\"weather_type\",\"weather_description\", \"traffic_volume\"]]\n",
    "df_grp = df_test_sub.groupby([\"weather_type\", \"weather_description\"], as_index=False, observed=True).mean()\n",
    "df_count = df_test_sub.groupby([\"weather_type\", \"weather_description\"], as_index=False, observed=True).size()\n",
    "print(df_count)"
   ]
  },
  {
   "cell_type": "markdown",
   "id": "0af40c8e-b28e-4fb2-a25c-480b03138a29",
   "metadata": {},
   "source": [
    "## Conclusión del paso anterior\n",
    "Vemos que no podemos realizar One-Hot como método para pasar de variable categórica a numérica porque tenemos muchos valores en ciertas filas y en otros tenemos muy pocos.\n",
    "Además, recurrimos al método Target Encoding modificado porque el normal puede producir goteo."
   ]
  },
  {
   "cell_type": "markdown",
   "id": "419e6cd0-a787-4b4e-83c9-834e6e2469a4",
   "metadata": {},
   "source": [
    "## Target Encoding \n",
    "\n",
    "Explication"
   ]
  },
  {
   "cell_type": "markdown",
   "id": "7d944269-08e5-447f-961e-d412939e3b27",
   "metadata": {},
   "source": [
    "#Codigo"
   ]
  },
  {
   "cell_type": "code",
   "execution_count": null,
   "id": "d5d0a0fb-2a07-4586-978f-bfb78891aec4",
   "metadata": {},
   "outputs": [],
   "source": [
    "#Por libreria"
   ]
  },
  {
   "cell_type": "markdown",
   "id": "36684771-7007-48ac-8790-bbe4f282fba4",
   "metadata": {},
   "source": [
    "## Matriz de correlación\n",
    "\n",
    "Explicación y decir cuáles elegimos con base en "
   ]
  },
  {
   "cell_type": "code",
   "execution_count": null,
   "id": "a86e14f5-ad32-467c-b3d1-87157734ac9f",
   "metadata": {},
   "outputs": [],
   "source": [
    "#Codigo "
   ]
  },
  {
   "cell_type": "markdown",
   "id": "1223e79a-8c3c-44b5-9bd0-cc4c3793222a",
   "metadata": {},
   "source": [
    "## Matriz de correlación de Weather type y Weather Description\n",
    "Explicar que la nieve tiene más"
   ]
  },
  {
   "cell_type": "code",
   "execution_count": null,
   "id": "e8463c8c-e283-418b-8cf6-9e0e3a9dcda4",
   "metadata": {},
   "outputs": [],
   "source": [
    "#Codigo"
   ]
  },
  {
   "cell_type": "code",
   "execution_count": null,
   "id": "50acc666-e547-4ae4-9d5b-0339a09d2b61",
   "metadata": {},
   "outputs": [],
   "source": [
    "## Volumen de Trafico segun el Tipo de Clima Explicar:"
   ]
  },
  {
   "cell_type": "code",
   "execution_count": null,
   "id": "9c59d8f2",
   "metadata": {},
   "outputs": [],
   "source": [
    "plt.figure(figsize=(10, 6))\n",
    "sns.boxplot(x=\"weather_type\", y=\"traffic_volume\", data=df)\n",
    "plt.xticks(rotation=45)\n",
    "plt.title(\"Volumen de Tráfico según Tipo de Clima\")\n",
    "plt.tight_layout()\n",
    "plt.show()"
   ]
  },
  {
   "cell_type": "markdown",
   "id": "e36c2041",
   "metadata": {},
   "source": [
    "## Relasion Humedad vs Volumen de trafico "
   ]
  },
  {
   "cell_type": "code",
   "execution_count": null,
   "id": "e2d254b1",
   "metadata": {},
   "outputs": [],
   "source": [
    "sns.regplot(\n",
    "    x=\"humidity\",\n",
    "    y=\"traffic_volume\",\n",
    "    data=df,\n",
    "    line_kws={'color': 'red'}\n",
    ")\n",
    "plt.ylim(0,)\n",
    "\n",
    "plt.show()"
   ]
  }
 ],
 "metadata": {
  "kernelspec": {
   "display_name": "Python 3",
   "language": "python",
   "name": "python3"
  },
  "language_info": {
   "codemirror_mode": {
    "name": "ipython",
    "version": 3
   },
   "file_extension": ".py",
   "mimetype": "text/x-python",
   "name": "python",
   "nbconvert_exporter": "python",
   "pygments_lexer": "ipython3",
   "version": "3.12.1"
  }
 },
 "nbformat": 4,
 "nbformat_minor": 5
}
